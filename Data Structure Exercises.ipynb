{
 "cells": [
  {
   "cell_type": "markdown",
   "id": "61121f2e",
   "metadata": {},
   "source": [
    "Exercise 1\n",
    "In mathematics, the quadratic equation ax2+bx+c=0 can be solved with the formula x=−b±b2−4ac√2a.\n",
    "\n",
    "Write a function solve_quadratic, that returns both solutions of a generic quadratic as a pair (2-tuple) when the coefficients are given as parameters."
   ]
  },
  {
   "cell_type": "code",
   "execution_count": 23,
   "id": "a8d993a1",
   "metadata": {},
   "outputs": [
    {
     "name": "stdout",
     "output_type": "stream",
     "text": [
      "(2.0, 1.0)\n",
      "(-1.0, -1.0)\n"
     ]
    }
   ],
   "source": [
    "def solve_quadratic(a, b, c):\n",
    "    \"This function solves the quadratic equation ax^2+bx+c=0, given the variables a, b, and c.\"\n",
    "    import math\n",
    "    return (((-b + math.sqrt(b**2 - 4*a*c))/(2*a)), ((-b - math.sqrt(b**2 - 4*a*c))/(2*a)))\n",
    "\n",
    "print(solve_quadratic(1, -3, 2))\n",
    "print(solve_quadratic(1, 2, 1))"
   ]
  },
  {
   "cell_type": "markdown",
   "id": "e1a72fc7",
   "metadata": {},
   "source": [
    "Exercise 2\n",
    "Get a space-separated list of integers from the user, create a tuple of those integers. Then compute and print the result of hash(tuple)."
   ]
  },
  {
   "cell_type": "code",
   "execution_count": 50,
   "id": "dde68e24",
   "metadata": {},
   "outputs": [
    {
     "name": "stdout",
     "output_type": "stream",
     "text": [
      "45 6 7 1002 3\n",
      "-8752803342075876807\n"
     ]
    }
   ],
   "source": [
    "x = input()\n",
    "print (hash(tuple(x)))"
   ]
  },
  {
   "cell_type": "markdown",
   "id": "21cdaf4f",
   "metadata": {},
   "source": [
    "Exercise 3\n",
    "Take the following two lists. Create a third list by picking a odd-index elements from the first list and even-index elements from the second."
   ]
  },
  {
   "cell_type": "code",
   "execution_count": 37,
   "id": "8dad4e45",
   "metadata": {},
   "outputs": [
    {
     "name": "stdout",
     "output_type": "stream",
     "text": [
      "[3, 9, 15, 21, 4, 8, 12, 16, 20, 24, 28]\n"
     ]
    }
   ],
   "source": [
    "listOne = [3, 6, 9, 12, 15, 18, 21]\n",
    "listTwo = [4, 8, 12, 16, 20, 24, 28]\n",
    "listThree =[]\n",
    "for n in listOne:\n",
    "    if n % 2 != 0:\n",
    "        listThree.append(n)\n",
    "for n in listTwo:\n",
    "    if n % 2 == 0:\n",
    "        listThree.append(n)\n",
    "print (listThree)\n"
   ]
  },
  {
   "cell_type": "markdown",
   "id": "70ff959c",
   "metadata": {},
   "source": [
    "Exercise 4\n",
    "Take the following list. Slice it into three equal chunks and reverse each list."
   ]
  },
  {
   "cell_type": "code",
   "execution_count": 93,
   "id": "c6e93321",
   "metadata": {},
   "outputs": [
    {
     "name": "stdout",
     "output_type": "stream",
     "text": [
      "[8, 45, 11] [12, 14, 23] [89, 45, 78]\n"
     ]
    }
   ],
   "source": [
    "sampleList = [11, 45, 8, 23, 14, 12, 78, 45, 89]\n",
    "list1 = []\n",
    "list2 = []\n",
    "list3 = []\n",
    "\n",
    "for x in sampleList:\n",
    "    if len(list1) < len(sampleList)//3:\n",
    "        list1.append(x)\n",
    "    elif len(list2) < len(sampleList)//3:\n",
    "        list2.append(x)\n",
    "    elif len(list3) < len(sampleList)//3:\n",
    "        list3.append(x)\n",
    "    else: #if the length of sampleList is not equally divisible by 3, append leftovers\n",
    "        #equally to the three list.\n",
    "        if len(list1) <= len(list2) & len(list3):\n",
    "            list1.append(x)\n",
    "        else:\n",
    "            list2.append(x)\n",
    "            \n",
    "list1.reverse()\n",
    "list2.reverse()\n",
    "list3.reverse()\n",
    "\n",
    "print(list1, list2, list3)"
   ]
  },
  {
   "cell_type": "markdown",
   "id": "637674f1",
   "metadata": {},
   "source": [
    "Exercise 5\n",
    "Iterate through a given list and check if a given element already exists in a dictionary as a key’s value. If not, delete it from the list."
   ]
  },
  {
   "cell_type": "code",
   "execution_count": 10,
   "id": "e69e2472",
   "metadata": {},
   "outputs": [
    {
     "name": "stdout",
     "output_type": "stream",
     "text": [
      "Number 47 is on the list.\n",
      "Number 64 is not on the list.\n",
      "Number 69 is on the list.\n",
      "Number 37 is not on the list.\n",
      "Number 76 is on the list.\n",
      "Number 83 is not on the list.\n",
      "Number 95 is not on the list.\n",
      "Number 97 is on the list.\n",
      "Updated rollNumber: [47, 69, 76, 97]\n"
     ]
    }
   ],
   "source": [
    "rollNumber = [47, 64, 69, 37, 76, 83, 95, 97]\n",
    "sampleDict = {'Zach':47, 'Emma':69, 'Kelly':76, 'Jason':97}\n",
    "uRollNumber = list()\n",
    "x = sampleDict.values()\n",
    "\n",
    "for n in rollNumber:\n",
    "    if n in list(x):\n",
    "        print (\"Number\", n, \"is on the list.\")\n",
    "        uRollNumber.append(n)\n",
    "    elif n is not list(x):\n",
    "        print (\"Number\", n, \"is not on the list.\")\n",
    "        \n",
    "print (\"Updated rollNumber:\", uRollNumber)\n"
   ]
  }
 ],
 "metadata": {
  "kernelspec": {
   "display_name": "Python 3 (ipykernel)",
   "language": "python",
   "name": "python3"
  },
  "language_info": {
   "codemirror_mode": {
    "name": "ipython",
    "version": 3
   },
   "file_extension": ".py",
   "mimetype": "text/x-python",
   "name": "python",
   "nbconvert_exporter": "python",
   "pygments_lexer": "ipython3",
   "version": "3.9.12"
  }
 },
 "nbformat": 4,
 "nbformat_minor": 5
}
